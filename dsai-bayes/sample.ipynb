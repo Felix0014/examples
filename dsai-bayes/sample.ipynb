{
 "cells": [
  {
   "metadata": {
    "ExecuteTime": {
     "end_time": "2025-03-26T07:59:59.615132Z",
     "start_time": "2025-03-26T07:59:57.739550Z"
    }
   },
   "cell_type": "code",
   "source": [
    "from pgmpy.models import BayesianNetwork\n",
    "from pgmpy.factors.discrete import TabularCPD\n",
    "from pgmpy.inference import VariableElimination"
   ],
   "id": "12f43618b47e7e97",
   "outputs": [],
   "execution_count": 1
  },
  {
   "metadata": {
    "ExecuteTime": {
     "end_time": "2025-03-26T08:00:01.192693Z",
     "start_time": "2025-03-26T08:00:01.185026Z"
    }
   },
   "cell_type": "code",
   "source": [
    "# Step 1: Define the structure (DAG)\n",
    "model = BayesianNetwork([('Burglary', 'Alarm'), ('Earthquake', 'Alarm')])\n",
    "\n",
    "# Step 2: Define the Conditional Probability Tables (CPTs)\n",
    "cpd_burglary = TabularCPD(variable='Burglary', variable_card=2,\n",
    "                          values=[[0.999], [0.001]])  # P(B)\n",
    "\n",
    "cpd_earthquake = TabularCPD(variable='Earthquake', variable_card=2,\n",
    "                            values=[[0.998], [0.002]])  # P(E)\n",
    "\n",
    "cpd_alarm = TabularCPD(variable='Alarm', variable_card=2,\n",
    "                       values=[[0.999, 0.71, 0.06, 0.05],  # P(A=0 | B, E)\n",
    "                               [0.001, 0.29, 0.94, 0.95]],  # P(A=1 | B, E)\n",
    "                       evidence=['Burglary', 'Earthquake'],\n",
    "                       evidence_card=[2, 2])\n",
    "\n",
    "# Step 3: Add CPTs to the model\n",
    "model.add_cpds(cpd_burglary, cpd_earthquake, cpd_alarm)\n",
    "\n",
    "# Step 4: Verify if the model is valid\n",
    "print(\"Model valid:\", model.check_model())\n",
    "\n",
    "# Step 5: Perform inference\n",
    "inference = VariableElimination(model)\n",
    "\n",
    "# Compute P(Burglary | Alarm = 1)\n",
    "result = inference.query(variables=['Burglary'], evidence={'Alarm': 1})\n",
    "print(result)"
   ],
   "id": "9ff4eb297480ca19",
   "outputs": [
    {
     "name": "stdout",
     "output_type": "stream",
     "text": [
      "Model valid: True\n",
      "+-------------+-----------------+\n",
      "| Burglary    |   phi(Burglary) |\n",
      "+=============+=================+\n",
      "| Burglary(0) |          0.6264 |\n",
      "+-------------+-----------------+\n",
      "| Burglary(1) |          0.3736 |\n",
      "+-------------+-----------------+\n"
     ]
    }
   ],
   "execution_count": 2
  }
 ],
 "metadata": {
  "kernelspec": {
   "display_name": "Python 3",
   "language": "python",
   "name": "python3"
  },
  "language_info": {
   "codemirror_mode": {
    "name": "ipython",
    "version": 2
   },
   "file_extension": ".py",
   "mimetype": "text/x-python",
   "name": "python",
   "nbconvert_exporter": "python",
   "pygments_lexer": "ipython2",
   "version": "2.7.6"
  }
 },
 "nbformat": 4,
 "nbformat_minor": 5
}
